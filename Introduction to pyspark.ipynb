{
 "cells": [
  {
   "cell_type": "markdown",
   "metadata": {},
   "source": [
    "## Introduction to pyspark"
   ]
  },
  {
   "cell_type": "markdown",
   "metadata": {},
   "source": [
    "The environment of pyspark is quite annoying.  \n",
    "I followed [this blog](https://blog.sicara.com/get-started-pyspark-jupyter-guide-tutorial-ae2fe84f594f).  \n",
    "Below is some code you can check if you set the environment properly.  "
   ]
  },
  {
   "cell_type": "code",
   "execution_count": 1,
   "metadata": {},
   "outputs": [
    {
     "name": "stdout",
     "output_type": "stream",
     "text": [
      "/anaconda3/envs/spark_env/bin/python\n"
     ]
    }
   ],
   "source": [
    "import sys\n",
    "print(sys.executable)"
   ]
  },
  {
   "cell_type": "code",
   "execution_count": 2,
   "metadata": {},
   "outputs": [],
   "source": [
    "# Creating Spark Configuration and Spark Context-\n",
    "from pyspark import SparkContext, SparkConf\n",
    "conf = SparkConf().setAppName(\"Word Counter\")\n",
    "sc = SparkContext(conf = conf)\n",
    "\n",
    "# Reading the file-\n",
    "myTextFile = sc.textFile(\"/Users/raleighliu/tools/spark-2.4.0-bin-hadoop2.7/README.md\")\n",
    "\n",
    "# Removing the empty lines-\n",
    "non_emptyLines = myTextFile.filter(lambda line: len(line) > 0)\n",
    "\n",
    "# Return a new RDD \"words\" by first applying \"split()\" function to all elements of this RDD, and then flattening the results.\n",
    "words = non_emptyLines.flatMap(lambda x: x.split(' '))\n",
    "\n",
    "# Executing three different functions-\n",
    "# a) .map() - it takes each line of the rdd \"words\" which is now a list of words, then creates a tuple like ('apple', 1) etc.\n",
    "# b) .reduceByKey() - it merges the values for each key using an associative and commutative reduce function. e.g. ('apple', 5) etc.\n",
    "# c) .map() - It just change the position on the tupple as (5, 'apple') and sorts the key descending\n",
    "\n",
    "wordCount = words.map(lambda x: (x, 1)).\\\n",
    "                    reduceByKey(lambda x, y : x + y).\\\n",
    "                        map(lambda x: (x[1], x[0])).sortByKey(False)\n",
    "\n",
    "# Save this RDD as a text file, using string representations of elements.\n",
    "# Note: It creates part-00000, part-00001 ... files which shows how the job has been performed across multiple partions (executor nodes)\n",
    "\n",
    "wordCount.saveAsTextFile(\"wordCountResult\")\n",
    "\n",
    "# To make this as a single file, you can just repartion it using coalesce(). \n",
    "# It returns a new RDD that is reduced into `numPartitions` partitions.\n",
    "\n",
    "wordCount.coalesce(1).saveAsTextFile(\"wordCountResult2\")\n",
    "\n",
    "# Both these functions creates a file showing \"SUCCESS\" if it is successfully written.\n",
    "# These files are calles .CRC file which stands for \"Cyclic Redundancy Check\". It's an error detecting code which is used to detect accidental changes to raw data. \n",
    "sc.stop()\n"
   ]
  },
  {
   "cell_type": "markdown",
   "metadata": {},
   "source": [
    "## Analyze some flight data"
   ]
  },
  {
   "cell_type": "code",
   "execution_count": 3,
   "metadata": {},
   "outputs": [
    {
     "name": "stdout",
     "output_type": "stream",
     "text": [
      "== Physical Plan ==\n",
      "*(2) Sort [count#12 ASC NULLS FIRST], true, 0\n",
      "+- Exchange rangepartitioning(count#12 ASC NULLS FIRST, 200)\n",
      "   +- *(1) FileScan csv [DEST_COUNTRY_NAME#10,ORIGIN_COUNTRY_NAME#11,count#12] Batched: false, Format: CSV, Location: InMemoryFileIndex[file:/Users/raleighliu/Desktop/Spark-The-Definitive-Guide/data/flight-data/csv/..., PartitionFilters: [], PushedFilters: [], ReadSchema: struct<DEST_COUNTRY_NAME:string,ORIGIN_COUNTRY_NAME:string,count:int>\n",
      "+--------------------+-------------------+-----+\n",
      "|   DEST_COUNTRY_NAME|ORIGIN_COUNTRY_NAME|count|\n",
      "+--------------------+-------------------+-----+\n",
      "|               Malta|      United States|    1|\n",
      "|Saint Vincent and...|      United States|    1|\n",
      "|       United States|            Croatia|    1|\n",
      "|       United States|          Gibraltar|    1|\n",
      "|       United States|          Singapore|    1|\n",
      "+--------------------+-------------------+-----+\n",
      "only showing top 5 rows\n",
      "\n",
      "+-----------------+-----------------+\n",
      "|DEST_COUNTRY_NAME|destination_total|\n",
      "+-----------------+-----------------+\n",
      "|    United States|           411352|\n",
      "|           Canada|             8399|\n",
      "|           Mexico|             7140|\n",
      "|   United Kingdom|             2025|\n",
      "|            Japan|             1548|\n",
      "+-----------------+-----------------+\n",
      "\n",
      "+-----------------+-----------------+\n",
      "|DEST_COUNTRY_NAME|destination_total|\n",
      "+-----------------+-----------------+\n",
      "|    United States|           411352|\n",
      "|           Canada|             8399|\n",
      "|           Mexico|             7140|\n",
      "|   United Kingdom|             2025|\n",
      "|            Japan|             1548|\n",
      "+-----------------+-----------------+\n",
      "\n"
     ]
    }
   ],
   "source": [
    "from pyspark import SparkContext, SparkConf\n",
    "conf = SparkConf().setAppName(\"EndToEndApp\")\n",
    "sc = SparkContext(conf = conf)\n",
    "\n",
    "from pyspark.sql import SparkSession \n",
    "spark = SparkSession(sc)\n",
    "\n",
    "# Creating a Spark DataFrame by reading from a csv\n",
    "flightData2015 = spark\\\n",
    "        .read\\\n",
    "        .option(\"inferSchema\", \"true\")\\\n",
    "        .option(\"header\", \"true\")\\\n",
    "        .csv(\"/Users/raleighliu/Desktop/Spark-The-Definitive-Guide/data/flight-data/csv/2015-summary.csv\")\n",
    "\n",
    "flightData2015.take(2)\n",
    "\n",
    "flightData2015.sort(\"count\").explain() # sort and looking at the explain plan\n",
    "\n",
    "spark.conf.set(\"spark.sql.shuffle.partitions\", \"5\") # setting number of partions\n",
    "\n",
    "flightData2015.sort(\"count\").show(5)\n",
    "\n",
    "flightData2015.createOrReplaceTempView(\"flight_data_2015\") # creating a temporary view from DF\n",
    "\n",
    "# Groups by dest_country_name and count how many using SQL\n",
    "sqlWay = spark.sql(\"\"\"\n",
    "SELECT DEST_COUNTRY_NAME, count(1)\n",
    "FROM flight_data_2015\n",
    "GROUP BY DEST_COUNTRY_NAME\n",
    "\"\"\")\n",
    "\n",
    "# Same using DataFrame operations\n",
    "dataFrameWay = flightData2015\\\n",
    "    .groupBy(\"DEST_COUNTRY_NAME\")\\\n",
    "    .count()\n",
    "    \n",
    "# We will use the max function, to establish the maximum number of flights to and from any given location.\n",
    "\n",
    "spark.sql(\"SELECT max(count) from flight_data_2015\").take(1) # using SQL\n",
    "\n",
    "from pyspark.sql.functions import max\n",
    "flightData2015.select(max(\"count\")).take(1) # using DataFrame operations\n",
    "\n",
    "# top five destination countries in the data  \n",
    "\n",
    "# SQL Way\n",
    "maxSql = spark.sql(\"\"\"\n",
    "SELECT DEST_COUNTRY_NAME, sum(count) as destination_total\n",
    "FROM flight_data_2015\n",
    "GROUP BY DEST_COUNTRY_NAME\n",
    "ORDER BY sum(count) DESC\n",
    "LIMIT 5\n",
    "\"\"\")\n",
    "\n",
    "maxSql.show()\n",
    "\n",
    "# DataFrame way\n",
    "from pyspark.sql.functions import desc\n",
    "\n",
    "flightData2015\\\n",
    "  .groupBy(\"DEST_COUNTRY_NAME\")\\\n",
    "  .sum(\"count\")\\\n",
    "  .withColumnRenamed(\"sum(count)\", \"destination_total\")\\\n",
    "  .sort(desc(\"destination_total\"))\\\n",
    "  .limit(5)\\\n",
    "  .show()"
   ]
  },
  {
   "cell_type": "code",
   "execution_count": null,
   "metadata": {},
   "outputs": [],
   "source": []
  }
 ],
 "metadata": {
  "kernelspec": {
   "display_name": "spark_env",
   "language": "python",
   "name": "spark_env"
  },
  "language_info": {
   "codemirror_mode": {
    "name": "ipython",
    "version": 3
   },
   "file_extension": ".py",
   "mimetype": "text/x-python",
   "name": "python",
   "nbconvert_exporter": "python",
   "pygments_lexer": "ipython3",
   "version": "3.6.7"
  }
 },
 "nbformat": 4,
 "nbformat_minor": 2
}
